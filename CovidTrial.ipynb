{
  "nbformat": 4,
  "nbformat_minor": 0,
  "metadata": {
    "accelerator": "GPU",
    "colab": {
      "name": "CovidTrial.ipynb",
      "provenance": [],
      "collapsed_sections": [],
      "include_colab_link": true
    },
    "kernelspec": {
      "display_name": "Python 3",
      "name": "python3"
    }
  },
  "cells": [
    {
      "cell_type": "markdown",
      "metadata": {
        "id": "view-in-github",
        "colab_type": "text"
      },
      "source": [
        "<a href=\"https://colab.research.google.com/github/Inyrkz/PneumoniaX/blob/Inyrkz-covid/CovidTrial.ipynb\" target=\"_parent\"><img src=\"https://colab.research.google.com/assets/colab-badge.svg\" alt=\"Open In Colab\"/></a>"
      ]
    },
    {
      "cell_type": "code",
      "metadata": {
        "id": "e6yDbBNWNIAY"
      },
      "source": [
        "# Importing Libraries\r\n",
        "import tensorflow as tf\r\n",
        "from tensorflow.keras.models import Sequential\r\n",
        "from tensorflow.keras.layers import Conv2D, MaxPooling2D, Dropout, Flatten, Dense\r\n",
        "from tensorflow.keras.optimizers import Adam\r\n",
        "from tensorflow.keras.preprocessing.image import ImageDataGenerator\r\n",
        "import numpy as np\r\n",
        "import matplotlib.pyplot as plt"
      ],
      "execution_count": 1,
      "outputs": []
    },
    {
      "cell_type": "code",
      "metadata": {
        "colab": {
          "base_uri": "https://localhost:8080/"
        },
        "id": "UwVfBFO2GBuZ",
        "outputId": "14468bd5-2a53-4354-d928-36e861a94d51"
      },
      "source": [
        "# creating models directory\r\n",
        "import os\r\n",
        "if not os.path.isdir('models'):\r\n",
        "  os.mkdir('models')\r\n",
        "\r\n",
        "# checking TensorFlow version and GPU usage\r\n",
        "print('Tensorflow version:', tf.__version__)\r\n",
        "print('Is using GPU?', tf.test.is_gpu_available())"
      ],
      "execution_count": 2,
      "outputs": [
        {
          "output_type": "stream",
          "text": [
            "Tensorflow version: 2.4.0\n",
            "WARNING:tensorflow:From <ipython-input-2-61d346263b2d>:8: is_gpu_available (from tensorflow.python.framework.test_util) is deprecated and will be removed in a future version.\n",
            "Instructions for updating:\n",
            "Use `tf.config.list_physical_devices('GPU')` instead.\n",
            "Is using GPU? True\n"
          ],
          "name": "stdout"
        }
      ]
    },
    {
      "cell_type": "code",
      "metadata": {
        "colab": {
          "base_uri": "https://localhost:8080/"
        },
        "id": "8Xu-9WJiGGgl",
        "outputId": "75606afc-f32b-47d2-e970-5a00084a8687"
      },
      "source": [
        "# Clone and Explore Dataset\r\n",
        "!git clone https://github.com/education454/datasets.git"
      ],
      "execution_count": 3,
      "outputs": [
        {
          "output_type": "stream",
          "text": [
            "Cloning into 'datasets'...\n",
            "remote: Enumerating objects: 2301, done.\u001b[K\n",
            "remote: Total 2301 (delta 0), reused 0 (delta 0), pack-reused 2301\u001b[K\n",
            "Receiving objects: 100% (2301/2301), 1.31 GiB | 40.52 MiB/s, done.\n",
            "Checking out files: 100% (2295/2295), done.\n"
          ],
          "name": "stdout"
        }
      ]
    },
    {
      "cell_type": "code",
      "metadata": {
        "id": "gzF8rKidGKm9"
      },
      "source": [
        "# setting path to the main directory\r\n",
        "main_dir = \"/content/datasets/Data\""
      ],
      "execution_count": 4,
      "outputs": []
    },
    {
      "cell_type": "code",
      "metadata": {
        "id": "MciFZygnGM5Q"
      },
      "source": [
        "# Setting path to the training directory\r\n",
        "train_dir = os.path.join(main_dir, 'train')"
      ],
      "execution_count": 5,
      "outputs": []
    },
    {
      "cell_type": "code",
      "metadata": {
        "id": "9Ek6QzdMGM8A"
      },
      "source": [
        "# Setting path to the test directory\r\n",
        "test_dir = os.path.join(main_dir, 'test')"
      ],
      "execution_count": 6,
      "outputs": []
    },
    {
      "cell_type": "code",
      "metadata": {
        "id": "DQ288yIUGM-v"
      },
      "source": [
        "# Directory with train covid images\r\n",
        "train_covid_dir = os.path.join(train_dir, 'COVID19')\r\n",
        "\r\n",
        "# Directory with train normal images\r\n",
        "train_normal_dir = os.path.join(train_dir, 'NORMAL')"
      ],
      "execution_count": 7,
      "outputs": []
    },
    {
      "cell_type": "code",
      "metadata": {
        "id": "MjXlFd5GGNDC"
      },
      "source": [
        "# Directory with test covid image\r\n",
        "test_covid_dir = os.path.join(test_dir, 'COVID19')\r\n",
        "\r\n",
        "# Directory with test normal image\r\n",
        "test_normal_dir = os.path.join(test_dir, 'NORMAL')"
      ],
      "execution_count": 8,
      "outputs": []
    },
    {
      "cell_type": "code",
      "metadata": {
        "colab": {
          "base_uri": "https://localhost:8080/"
        },
        "id": "SO9SA24_GNID",
        "outputId": "d4ca0620-3d4e-4ed6-a9af-79aa7138de7e"
      },
      "source": [
        "# Creating a list of filenames in each directory\r\n",
        "train_covid_names = os.listdir(train_covid_dir)\r\n",
        "print(train_covid_names[:10])  # printing a list of the first 10 names\r\n",
        "\r\n",
        "train_normal_names = os.listdir(train_normal_dir)\r\n",
        "print(train_normal_names[:10])\r\n",
        "\r\n",
        "test_covid_names = os.listdir(test_covid_dir)\r\n",
        "print(test_covid_names[:10])\r\n",
        "\r\n",
        "test_normal_names = os.listdir(test_normal_dir)\r\n",
        "print(test_normal_names[:10])"
      ],
      "execution_count": 9,
      "outputs": [
        {
          "output_type": "stream",
          "text": [
            "['COVID19(407).jpg', 'COVID-19 (179).jpg', 'COVID-19 (8).jpeg', 'COVID19(86).jpg', 'COVID19(330).jpg', 'COVID19(564).jpg', 'COVID19(348).jpg', 'COVID19(302).jpg', 'COVID19(299).jpg', 'COVID19(87).jpg']\n",
            "['NORMAL(489).jpg', 'NORMAL(1059).jpg', 'NORMAL(853).jpg', 'NORMAL(1473).jpg', 'NORMAL(1504).jpg', 'NORMAL(183).jpg', 'NORMAL(1155).jpg', 'NORMAL(503).jpg', 'NORMAL(46).jpg', 'NORMAL(71).jpg']\n",
            "['COVID-19 (516).jpg', 'COVID19(358).jpg', 'COVID-19 (773).jpg', 'COVID19(304).jpg', 'COVID19(121).jpg', 'COVID19(385).jpg', 'COVID-19 (609).jpg', 'COVID19(216).jpg', 'COVID19(450).jpg', 'COVID19(346).jpg']\n",
            "['NORMAL(792).jpg', 'NORMAL(471).jpg', 'NORMAL(1245).jpg', 'NORMAL(922).jpg', 'NORMAL(1214).jpg', 'NORMAL(689).jpg', 'NORMAL(1430).jpg', 'NORMAL(500).jpg', 'NORMAL(1207).jpg', 'NORMAL(845).jpg']\n"
          ],
          "name": "stdout"
        }
      ]
    },
    {
      "cell_type": "code",
      "metadata": {
        "colab": {
          "base_uri": "https://localhost:8080/"
        },
        "id": "tzX92IXoGNTG",
        "outputId": "749bb73c-6a2d-4da5-848f-37ced32d900a"
      },
      "source": [
        "# Printing total number of images present in each set\r\n",
        "print('Total no of images in training set:', len(train_covid_names\r\n",
        "                                                + train_normal_names))\r\n",
        "\r\n",
        "print(\"Total no of images in test set:\", len(test_covid_names\r\n",
        "                                            + test_normal_names))"
      ],
      "execution_count": 10,
      "outputs": [
        {
          "output_type": "stream",
          "text": [
            "Total no of images in training set: 1811\n",
            "Total no of images in test set: 484\n"
          ],
          "name": "stdout"
        }
      ]
    },
    {
      "cell_type": "code",
      "metadata": {
        "colab": {
          "base_uri": "https://localhost:8080/",
          "height": 35
        },
        "id": "MWHJw_JuMSVo",
        "outputId": "9d8f6580-3ef5-49d5-f6df-c88eddc548c2"
      },
      "source": [
        "# Data Visualization\r\n",
        "import matplotlib.image as mpimg\r\n",
        "\r\n",
        "# Setting the no of rows and columns\r\n",
        "ROWS = 4\r\n",
        "COLS = 4\r\n",
        "\r\n",
        "# Setting the figure size\r\n",
        "fig = plt.gcf()\r\n",
        "# get current figure; allows us to get a reference to current figure\r\n",
        "# when using pyplot\r\n",
        "fig.set_size_inches(12, 12)"
      ],
      "execution_count": 11,
      "outputs": [
        {
          "output_type": "display_data",
          "data": {
            "text/plain": [
              "<Figure size 864x864 with 0 Axes>"
            ]
          },
          "metadata": {
            "tags": []
          }
        }
      ]
    },
    {
      "cell_type": "code",
      "metadata": {
        "colab": {
          "base_uri": "https://localhost:8080/"
        },
        "id": "9dlFitfpMbAg",
        "outputId": "57446d82-bf37-4e7d-a0eb-6c04d7569286"
      },
      "source": [
        "# get the directory to each image file in the trainset\r\n",
        "covid_pic = [os.path.join(train_covid_dir, filename) for filename in train_covid_names[:8]]\r\n",
        "normal_pic = [os.path.join(train_normal_dir, filename) for filename in train_normal_names[:8]]\r\n",
        "print(covid_pic)\r\n",
        "print(normal_pic)\r\n",
        "\r\n",
        "# merge covid and normal lists\r\n",
        "merged_list = covid_pic + normal_pic\r\n",
        "print(merged_list)"
      ],
      "execution_count": 12,
      "outputs": [
        {
          "output_type": "stream",
          "text": [
            "['/content/datasets/Data/train/COVID19/COVID19(407).jpg', '/content/datasets/Data/train/COVID19/COVID-19 (179).jpg', '/content/datasets/Data/train/COVID19/COVID-19 (8).jpeg', '/content/datasets/Data/train/COVID19/COVID19(86).jpg', '/content/datasets/Data/train/COVID19/COVID19(330).jpg', '/content/datasets/Data/train/COVID19/COVID19(564).jpg', '/content/datasets/Data/train/COVID19/COVID19(348).jpg', '/content/datasets/Data/train/COVID19/COVID19(302).jpg']\n",
            "['/content/datasets/Data/train/NORMAL/NORMAL(489).jpg', '/content/datasets/Data/train/NORMAL/NORMAL(1059).jpg', '/content/datasets/Data/train/NORMAL/NORMAL(853).jpg', '/content/datasets/Data/train/NORMAL/NORMAL(1473).jpg', '/content/datasets/Data/train/NORMAL/NORMAL(1504).jpg', '/content/datasets/Data/train/NORMAL/NORMAL(183).jpg', '/content/datasets/Data/train/NORMAL/NORMAL(1155).jpg', '/content/datasets/Data/train/NORMAL/NORMAL(503).jpg']\n",
            "['/content/datasets/Data/train/COVID19/COVID19(407).jpg', '/content/datasets/Data/train/COVID19/COVID-19 (179).jpg', '/content/datasets/Data/train/COVID19/COVID-19 (8).jpeg', '/content/datasets/Data/train/COVID19/COVID19(86).jpg', '/content/datasets/Data/train/COVID19/COVID19(330).jpg', '/content/datasets/Data/train/COVID19/COVID19(564).jpg', '/content/datasets/Data/train/COVID19/COVID19(348).jpg', '/content/datasets/Data/train/COVID19/COVID19(302).jpg', '/content/datasets/Data/train/NORMAL/NORMAL(489).jpg', '/content/datasets/Data/train/NORMAL/NORMAL(1059).jpg', '/content/datasets/Data/train/NORMAL/NORMAL(853).jpg', '/content/datasets/Data/train/NORMAL/NORMAL(1473).jpg', '/content/datasets/Data/train/NORMAL/NORMAL(1504).jpg', '/content/datasets/Data/train/NORMAL/NORMAL(183).jpg', '/content/datasets/Data/train/NORMAL/NORMAL(1155).jpg', '/content/datasets/Data/train/NORMAL/NORMAL(503).jpg']\n"
          ],
          "name": "stdout"
        }
      ]
    },
    {
      "cell_type": "code",
      "metadata": {
        "id": "EJcXzcIHMcUU",
        "outputId": "e48729b7-8f56-4e34-f55a-ff9e0d4fdd75",
        "colab": {
          "base_uri": "https://localhost:8080/",
          "height": 258
        }
      },
      "source": [
        "# Plotting the images in the merged list\r\n",
        "for i, img_path in enumerate(merged_list):\r\n",
        "    # getting the filename from the directory\r\n",
        "    data = img_path.split('/', 6)[6]\r\n",
        "    # creating a subplot of images with the no. of rows and colums with index no\r\n",
        "    sp = plt.subplot(ROWS, COLS, i+1)\r\n",
        "    \r\n",
        "    # turn off axis\r\n",
        "    sp.axis('Off')\r\n",
        "    # reading the image data to an array\r\n",
        "    img = mpimg.imread(img_path)\r\n",
        "    # setting title of plot as the filename\r\n",
        "    sp.set_title(data, fontsize=6)\r\n",
        "    # displaying data as image\r\n",
        "    plt.imshow(img, cmap='gray')\r\n",
        "        \r\n",
        "plt.show()  # display the plot"
      ],
      "execution_count": 13,
      "outputs": [
        {
          "output_type": "display_data",
          "data": {
            "image/png": "[encoded data removed]",
            "text/plain": [
              "<Figure size 432x288 with 16 Axes>"
            ]
          },
          "metadata": {
            "tags": [],
            "needs_background": "light"
          }
        }
      ]
    },
    {
      "cell_type": "code",
      "metadata": {
        "id": "B8X_T_KAMcd1"
      },
      "source": [
        "# Data Preprocessing and Augumentation\r\n",
        "\r\n",
        "# Generate training, testing and validation batches\r\n",
        "dgen_train = ImageDataGenerator(rescale=1./255,\r\n",
        "                                validation_split=0.2,  # using 20% of training data for validation \r\n",
        "                                zoom_range=0.2,\r\n",
        "                                horizontal_flip=True)\r\n",
        "\r\n",
        "dgen_validation = ImageDataGenerator(rescale=1./255)\r\n",
        "\r\n",
        "dgen_test = ImageDataGenerator(rescale=1./255)"
      ],
      "execution_count": 23,
      "outputs": []
    },
    {
      "cell_type": "code",
      "metadata": {
        "id": "cPmqgh7TMcgW",
        "outputId": "4dc0a0bf-0e44-4083-b348-226c23ae186c",
        "colab": {
          "base_uri": "https://localhost:8080/"
        }
      },
      "source": [
        "# Awesome HyperParameters!!!\r\n",
        "TARGET_SIZE = (200, 200)\r\n",
        "BATCH_SIZE = 32\r\n",
        "CLASS_MODE = 'binary'  # for two classes; categorical for over 2 classes\r\n",
        "\r\n",
        "\r\n",
        "# Connecting the ImageDataGenerator objects to our dataset\r\n",
        "train_generator = dgen_train.flow_from_directory(train_dir,\r\n",
        "                                                 target_size=TARGET_SIZE,\r\n",
        "                                                 subset='training',\r\n",
        "                                                 batch_size=BATCH_SIZE,\r\n",
        "                                                 class_mode=CLASS_MODE)\r\n",
        "\r\n",
        "# CONFIRM if it should be dgen_validation.flow...\r\n",
        "validation_generator = dgen_train.flow_from_directory(train_dir,\r\n",
        "                                                      target_size=TARGET_SIZE,\r\n",
        "                                                      subset='validation',\r\n",
        "                                                      batch_size=BATCH_SIZE,\r\n",
        "                                                      class_mode=CLASS_MODE)\r\n",
        "\r\n",
        "test_generator = dgen_test.flow_from_directory(test_dir,\r\n",
        "                                               target_size=TARGET_SIZE,\r\n",
        "                                               batch_size=BATCH_SIZE,\r\n",
        "                                               class_mode=CLASS_MODE)"
      ],
      "execution_count": 24,
      "outputs": [
        {
          "output_type": "stream",
          "text": [
            "Found 1449 images belonging to 2 classes.\n",
            "Found 362 images belonging to 2 classes.\n",
            "Found 484 images belonging to 2 classes.\n"
          ],
          "name": "stdout"
        }
      ]
    },
    {
      "cell_type": "code",
      "metadata": {
        "colab": {
          "base_uri": "https://localhost:8080/"
        },
        "id": "2FRJQw9qMcju",
        "outputId": "c9f3d590-afd3-44f8-ef97-1eba7eaab275"
      },
      "source": [
        "# Get the class indices\r\n",
        "train_generator.class_indices"
      ],
      "execution_count": 25,
      "outputs": [
        {
          "output_type": "execute_result",
          "data": {
            "text/plain": [
              "{'COVID19': 0, 'NORMAL': 1}"
            ]
          },
          "metadata": {
            "tags": []
          },
          "execution_count": 25
        }
      ]
    },
    {
      "cell_type": "code",
      "metadata": {
        "colab": {
          "base_uri": "https://localhost:8080/"
        },
        "id": "Z7krYY_kMcol",
        "outputId": "7a0276bf-bcf5-4510-8e8b-f9267cb68137"
      },
      "source": [
        "# Get the image shape\r\n",
        "train_generator.image_shape"
      ],
      "execution_count": 26,
      "outputs": [
        {
          "output_type": "execute_result",
          "data": {
            "text/plain": [
              "(200, 200, 3)"
            ]
          },
          "metadata": {
            "tags": []
          },
          "execution_count": 26
        }
      ]
    },
    {
      "cell_type": "code",
      "metadata": {
        "colab": {
          "base_uri": "https://localhost:8080/"
        },
        "id": "wQReco-0MSY4",
        "outputId": "df5c7e5a-be23-4b5b-83af-e6e7f15d8f14"
      },
      "source": [
        "# Building CNN Model\r\n",
        "model = Sequential()\r\n",
        "model.add(Conv2D(32, (5,5), padding='same', activation='relu',\r\n",
        "                input_shape=(200, 200, 3)))\r\n",
        "model.add(MaxPooling2D(pool_size=(2,2)))\r\n",
        "model.add(Dropout(0.5))\r\n",
        "\r\n",
        "model.add(Conv2D(64, (5,5), padding='same', activation='relu'))\r\n",
        "model.add(MaxPooling2D(pool_size=(2,2)))\r\n",
        "model.add(Dropout(0.5))\r\n",
        "\r\n",
        "model.add(Flatten())\r\n",
        "model.add(Dense(256, activation='relu'))\r\n",
        "model.add(Dropout(0.5))\r\n",
        "model.add(Dense(1, activation='sigmoid'))\r\n",
        "\r\n",
        "model.summary()"
      ],
      "execution_count": 27,
      "outputs": [
        {
          "output_type": "stream",
          "text": [
            "Model: \"sequential_1\"\n",
            "_________________________________________________________________\n",
            "Layer (type)                 Output Shape              Param #   \n",
            "=================================================================\n",
            "conv2d_2 (Conv2D)            (None, 200, 200, 32)      2432      \n",
            "_________________________________________________________________\n",
            "max_pooling2d_2 (MaxPooling2 (None, 100, 100, 32)      0         \n",
            "_________________________________________________________________\n",
            "dropout_3 (Dropout)          (None, 100, 100, 32)      0         \n",
            "_________________________________________________________________\n",
            "conv2d_3 (Conv2D)            (None, 100, 100, 64)      51264     \n",
            "_________________________________________________________________\n",
            "max_pooling2d_3 (MaxPooling2 (None, 50, 50, 64)        0         \n",
            "_________________________________________________________________\n",
            "dropout_4 (Dropout)          (None, 50, 50, 64)        0         \n",
            "_________________________________________________________________\n",
            "flatten_1 (Flatten)          (None, 160000)            0         \n",
            "_________________________________________________________________\n",
            "dense_2 (Dense)              (None, 256)               40960256  \n",
            "_________________________________________________________________\n",
            "dropout_5 (Dropout)          (None, 256)               0         \n",
            "_________________________________________________________________\n",
            "dense_3 (Dense)              (None, 1)                 257       \n",
            "=================================================================\n",
            "Total params: 41,014,209\n",
            "Trainable params: 41,014,209\n",
            "Non-trainable params: 0\n",
            "_________________________________________________________________\n"
          ],
          "name": "stdout"
        }
      ]
    },
    {
      "cell_type": "code",
      "metadata": {
        "id": "Zc456s3TMSfn"
      },
      "source": [
        "# Compile the Model\r\n",
        "model.compile(Adam(lr=0.001), loss='binary_crossentropy', metrics=['accuracy'])"
      ],
      "execution_count": 28,
      "outputs": []
    },
    {
      "cell_type": "code",
      "metadata": {
        "colab": {
          "base_uri": "https://localhost:8080/"
        },
        "id": "ukz4ZYg7MSkH",
        "outputId": "c9cbf14c-ce79-42a6-92d2-a01468903690"
      },
      "source": [
        "# Train the Model\r\n",
        "history = model.fit(train_generator,\r\n",
        "          epochs=30,\r\n",
        "          validation_data=validation_generator,\r\n",
        "          callbacks=[\r\n",
        "          # Stopping our training if val_accuracy doesn't improve after 20 epochs\r\n",
        "          tf.keras.callbacks.EarlyStopping(monitor='val_accuracy', \r\n",
        "                                           patience=20),\r\n",
        "          # Saving the best weights of our model in the model directory\r\n",
        "        \r\n",
        "          # We don't want to save just the weight, but also the model architecture\r\n",
        "          tf.keras.callbacks.ModelCheckpoint('models/model_{val_accuracy:.3f}.h5',\r\n",
        "                                           save_best_only=True,\r\n",
        "                                           save_weights_only=False,\r\n",
        "                                           monitor='val_accuracy'\r\n",
        "                                             )\r\n",
        "    ])\r\n"
      ],
      "execution_count": 29,
      "outputs": [
        {
          "output_type": "stream",
          "text": [
            "Epoch 1/30\n",
            "46/46 [==============================] - 52s 1s/step - loss: 3.3216 - accuracy: 0.6836 - val_loss: 0.6424 - val_accuracy: 0.6602\n",
            "Epoch 2/30\n",
            "46/46 [==============================] - 51s 1s/step - loss: 0.2584 - accuracy: 0.8875 - val_loss: 0.1837 - val_accuracy: 0.9475\n",
            "Epoch 3/30\n",
            "46/46 [==============================] - 51s 1s/step - loss: 0.1628 - accuracy: 0.9371 - val_loss: 0.1889 - val_accuracy: 0.9669\n",
            "Epoch 4/30\n",
            "46/46 [==============================] - 51s 1s/step - loss: 0.1464 - accuracy: 0.9551 - val_loss: 0.1711 - val_accuracy: 0.9613\n",
            "Epoch 5/30\n",
            "46/46 [==============================] - 50s 1s/step - loss: 0.1154 - accuracy: 0.9664 - val_loss: 0.1300 - val_accuracy: 0.9641\n",
            "Epoch 6/30\n",
            "46/46 [==============================] - 50s 1s/step - loss: 0.1455 - accuracy: 0.9457 - val_loss: 0.1345 - val_accuracy: 0.9613\n",
            "Epoch 7/30\n",
            "46/46 [==============================] - 50s 1s/step - loss: 0.1187 - accuracy: 0.9576 - val_loss: 0.1084 - val_accuracy: 0.9613\n",
            "Epoch 8/30\n",
            "46/46 [==============================] - 51s 1s/step - loss: 0.1162 - accuracy: 0.9649 - val_loss: 0.1615 - val_accuracy: 0.9558\n",
            "Epoch 9/30\n",
            "46/46 [==============================] - 51s 1s/step - loss: 0.1103 - accuracy: 0.9592 - val_loss: 0.1013 - val_accuracy: 0.9724\n",
            "Epoch 10/30\n",
            "46/46 [==============================] - 51s 1s/step - loss: 0.0948 - accuracy: 0.9646 - val_loss: 0.0960 - val_accuracy: 0.9779\n",
            "Epoch 11/30\n",
            "46/46 [==============================] - 51s 1s/step - loss: 0.0831 - accuracy: 0.9727 - val_loss: 0.0850 - val_accuracy: 0.9724\n",
            "Epoch 12/30\n",
            "46/46 [==============================] - 51s 1s/step - loss: 0.1145 - accuracy: 0.9603 - val_loss: 0.0937 - val_accuracy: 0.9669\n",
            "Epoch 13/30\n",
            "46/46 [==============================] - 50s 1s/step - loss: 0.0847 - accuracy: 0.9777 - val_loss: 0.0860 - val_accuracy: 0.9807\n",
            "Epoch 14/30\n",
            "46/46 [==============================] - 51s 1s/step - loss: 0.0824 - accuracy: 0.9785 - val_loss: 0.0958 - val_accuracy: 0.9779\n",
            "Epoch 15/30\n",
            "46/46 [==============================] - 51s 1s/step - loss: 0.0801 - accuracy: 0.9672 - val_loss: 0.0860 - val_accuracy: 0.9641\n",
            "Epoch 16/30\n",
            "46/46 [==============================] - 50s 1s/step - loss: 0.1062 - accuracy: 0.9562 - val_loss: 0.1056 - val_accuracy: 0.9696\n",
            "Epoch 17/30\n",
            "46/46 [==============================] - 50s 1s/step - loss: 0.0910 - accuracy: 0.9734 - val_loss: 0.0639 - val_accuracy: 0.9779\n",
            "Epoch 18/30\n",
            "46/46 [==============================] - 50s 1s/step - loss: 0.0762 - accuracy: 0.9715 - val_loss: 0.0668 - val_accuracy: 0.9696\n",
            "Epoch 19/30\n",
            "46/46 [==============================] - 50s 1s/step - loss: 0.0915 - accuracy: 0.9751 - val_loss: 0.0726 - val_accuracy: 0.9779\n",
            "Epoch 20/30\n",
            "46/46 [==============================] - 51s 1s/step - loss: 0.0617 - accuracy: 0.9771 - val_loss: 0.0648 - val_accuracy: 0.9862\n",
            "Epoch 21/30\n",
            "46/46 [==============================] - 51s 1s/step - loss: 0.0773 - accuracy: 0.9738 - val_loss: 0.0926 - val_accuracy: 0.9724\n",
            "Epoch 22/30\n",
            "46/46 [==============================] - 51s 1s/step - loss: 0.0919 - accuracy: 0.9629 - val_loss: 0.0651 - val_accuracy: 0.9751\n",
            "Epoch 23/30\n",
            "46/46 [==============================] - 51s 1s/step - loss: 0.0977 - accuracy: 0.9678 - val_loss: 0.1757 - val_accuracy: 0.9475\n",
            "Epoch 24/30\n",
            "46/46 [==============================] - 50s 1s/step - loss: 0.0930 - accuracy: 0.9687 - val_loss: 0.1011 - val_accuracy: 0.9641\n",
            "Epoch 25/30\n",
            "46/46 [==============================] - 50s 1s/step - loss: 0.0643 - accuracy: 0.9837 - val_loss: 0.0731 - val_accuracy: 0.9779\n",
            "Epoch 26/30\n",
            "46/46 [==============================] - 51s 1s/step - loss: 0.0647 - accuracy: 0.9773 - val_loss: 0.0576 - val_accuracy: 0.9779\n",
            "Epoch 27/30\n",
            "46/46 [==============================] - 50s 1s/step - loss: 0.0460 - accuracy: 0.9864 - val_loss: 0.0506 - val_accuracy: 0.9862\n",
            "Epoch 28/30\n",
            "46/46 [==============================] - 51s 1s/step - loss: 0.0370 - accuracy: 0.9873 - val_loss: 0.0639 - val_accuracy: 0.9751\n",
            "Epoch 29/30\n",
            "46/46 [==============================] - 50s 1s/step - loss: 0.0455 - accuracy: 0.9853 - val_loss: 0.0657 - val_accuracy: 0.9834\n",
            "Epoch 30/30\n",
            "46/46 [==============================] - 50s 1s/step - loss: 0.0474 - accuracy: 0.9825 - val_loss: 0.0646 - val_accuracy: 0.9751\n"
          ],
          "name": "stdout"
        }
      ]
    },
    {
      "cell_type": "code",
      "metadata": {
        "id": "AidZ6qqONCT2",
        "outputId": "7197b358-2f04-484e-9417-ad0d4a2295cc",
        "colab": {
          "base_uri": "https://localhost:8080/"
        }
      },
      "source": [
        "# Performance Evaluation\r\n",
        "history.history.keys()"
      ],
      "execution_count": 30,
      "outputs": [
        {
          "output_type": "execute_result",
          "data": {
            "text/plain": [
              "dict_keys(['loss', 'accuracy', 'val_loss', 'val_accuracy'])"
            ]
          },
          "metadata": {
            "tags": []
          },
          "execution_count": 30
        }
      ]
    },
    {
      "cell_type": "code",
      "metadata": {
        "id": "x9-v37BMNCYR",
        "outputId": "de0d2c28-2ba4-468a-c1af-d4827dbc88d7",
        "colab": {
          "base_uri": "https://localhost:8080/",
          "height": 313
        }
      },
      "source": [
        "# Plot graph between training and validation loss\r\n",
        "plt.plot(history.history['loss'])\r\n",
        "plt.plot(history.history['val_loss'])\r\n",
        "plt.legend(['Training', 'Validation'])\r\n",
        "plt.title('Training and Validation Losses')\r\n",
        "plt.xlabel('epoch')"
      ],
      "execution_count": 31,
      "outputs": [
        {
          "output_type": "execute_result",
          "data": {
            "text/plain": [
              "Text(0.5, 0, 'epoch')"
            ]
          },
          "metadata": {
            "tags": []
          },
          "execution_count": 31
        },
        {
          "output_type": "display_data",
          "data": {
            "image/png": "[encoded data removed]",
            "text/plain": [
              "<Figure size 432x288 with 1 Axes>"
            ]
          },
          "metadata": {
            "tags": [],
            "needs_background": "light"
          }
        }
      ]
    },
    {
      "cell_type": "code",
      "metadata": {
        "id": "aAqhuJWyNCbk",
        "outputId": "be6e7797-63a4-4c2f-a1d6-bc569306501d",
        "colab": {
          "base_uri": "https://localhost:8080/",
          "height": 300
        }
      },
      "source": [
        "# Plot graph between training and validation accuracy\r\n",
        "plt.plot(history.history['accuracy'])\r\n",
        "plt.plot(history.history['val_accuracy'])\r\n",
        "plt.legend(['Training', 'Validation'])\r\n",
        "plt.xlabel('epoch')"
      ],
      "execution_count": 32,
      "outputs": [
        {
          "output_type": "execute_result",
          "data": {
            "text/plain": [
              "Text(0.5, 0, 'epoch')"
            ]
          },
          "metadata": {
            "tags": []
          },
          "execution_count": 32
        },
        {
          "output_type": "display_data",
          "data": {
            "image/png": "[encoded data removed]",
            "text/plain": [
              "<Figure size 432x288 with 1 Axes>"
            ]
          },
          "metadata": {
            "tags": [],
            "needs_background": "light"
          }
        }
      ]
    },
    {
      "cell_type": "code",
      "metadata": {
        "id": "EQV9qZ-sNLUw",
        "outputId": "5f166949-8ab9-4793-bff5-44e098635c98",
        "colab": {
          "base_uri": "https://localhost:8080/"
        }
      },
      "source": [
        "# Getting test accuracy and loss\r\n",
        "\r\n",
        "# loading the best perfoming model\r\n",
        "model = tf.keras.models.load_model('/content/models/model_0.986.h5')\r\n",
        "\r\n",
        "test_loss, test_acc = model.evaluate(test_generator)\r\n",
        "print('Test loss: {} Test Acc: {}'.format(test_loss, test_acc))"
      ],
      "execution_count": 34,
      "outputs": [
        {
          "output_type": "stream",
          "text": [
            "16/16 [==============================] - 13s 786ms/step - loss: 0.0824 - accuracy: 0.9711\n",
            "Test loss: 0.08238532394170761 Test Acc: 0.9710744023323059\n"
          ],
          "name": "stdout"
        }
      ]
    },
    {
      "cell_type": "code",
      "metadata": {
        "id": "5kBfZpmPNLXm",
        "outputId": "17919fbe-202f-4a29-d002-dfd62eb7df84",
        "colab": {
          "base_uri": "https://localhost:8080/"
        }
      },
      "source": [
        "# Making a Single Prediction\r\n",
        "import numpy as np\r\n",
        "from keras.preprocessing import image\r\n",
        "\r\n",
        "# load and resize image to 200x200\r\n",
        "test_image = image.load_img('/content/datasets/Data/test/COVID19/COVID-19 (457).jpg',\r\n",
        "                            target_size=(200,200))\r\n",
        "\r\n",
        "# convert image to numpy array\r\n",
        "images = image.img_to_array(test_image)\r\n",
        "# expand dimension of image\r\n",
        "images = np.expand_dims(images, axis=0)\r\n",
        "# making prediction with model\r\n",
        "prediction = model.predict(images)\r\n",
        "    \r\n",
        "if prediction == 0:\r\n",
        "  print('COVID Detected')\r\n",
        "else:\r\n",
        "  print('Report is Normal')"
      ],
      "execution_count": 37,
      "outputs": [
        {
          "output_type": "stream",
          "text": [
            "COVID Detected\n"
          ],
          "name": "stdout"
        }
      ]
    }
  ]
}